{
 "cells": [
  {
   "cell_type": "markdown",
   "metadata": {},
   "source": "# Corrigé des exercices Python du chapitre \"Arithmétique, partie 2\" "
  },
  {
   "cell_type": "markdown",
   "metadata": {},
   "source": "### Exercice 3\n\na) En Python, écrire une fonction `pgcd_euclide(a,b)`  qui calcule le   de deux nombres entiers positifs a et b avec l’algorithme d’Euclide. \n\n*Rappel : en python le reste de la division Euclidienne s’obtient en utilisant le symbole `%`.*\n"
  },
  {
   "cell_type": "code",
   "execution_count": 1,
   "metadata": {
    "trusted": true
   },
   "outputs": [],
   "source": "def pgcd_euclide(a,b):\n    while b!=0:\n        r=a%b\n        a=b\n        b=r\n    return a"
  },
  {
   "cell_type": "markdown",
   "metadata": {},
   "source": "b) Tester votre programme avec les nombres suivants :  \n- $a=777;b=441$\n- $a=1600;b=259$\n- $a=9185;b=2004$\n- $a=600;b=1$ \n\nPour vérifier que  `pgcd_euclide(777, 441)=21`, `pgcd_euclide(9185,2004)=167`; `pgcd_euclide(1600; 259)=1` et `pgcd_euclide(600; 1)=1`\n "
  },
  {
   "cell_type": "code",
   "execution_count": 2,
   "metadata": {
    "trusted": true
   },
   "outputs": [
    {
     "name": "stdout",
     "output_type": "stream",
     "text": "PGCD(777, 441)=21\nPGCD(1600, 259)=1\nPGCD(9185, 2004)=167\nPGCD(600, 1)=1\n"
    }
   ],
   "source": "a, b = 777, 441\nd = pgcd_euclide(a,b)\nprint(f\"PGCD({a}, {b})={d}\")\n\na, b = 1600, 259\nd = pgcd_euclide(a,b)\nprint(f\"PGCD({a}, {b})={d}\")\n\na, b = 9185, 2004\nd = pgcd_euclide(a,b)\nprint(f\"PGCD({a}, {b})={d}\")\n\na, b = 600, 1\nd = pgcd_euclide(a,b)\nprint(f\"PGCD({a}, {b})={d}\")"
  },
  {
   "cell_type": "markdown",
   "metadata": {},
   "source": "---\n### Exercice 4\n\nL’année dernière, nous avions monté qu’une méthode simple pour trouver le pgcd entre deux nombres $a$ et $b$ , consistait à tester tous les nombres entiers plus petit que $a$ et $b$ en testant s’ils sont aussi des diviseurs de $a$ et $b$. Ceci nous avait amené à l’algorithme suivant :"
  },
  {
   "cell_type": "code",
   "execution_count": 3,
   "metadata": {
    "trusted": true
   },
   "outputs": [],
   "source": "def pgcd_naif(a,b):\n    m = min(a,b)  \n    d_max = 1 # le pgcd \n    for d in range(2,m+1):\n        # si d est un diviseur de a et b\n        if a%d==0 and b%d==0 :\n            d_max = d\n    \n    return d_max\n"
  },
  {
   "cell_type": "markdown",
   "metadata": {},
   "source": "Comparer le temps nécessaire pour calculer le pgcd des pairs de nombres ci-dessous entre l’algorithme naïf proposé ci-dessus et l’algorithme d’Euclide.\n- $a=418372976;b=418372976$\n- $a=1600;b=259$\n\n*Rappel    En Python on peut calculer le temps d’exécution d’un programme à l’aide des commandes suivantes :*\n```python\nimport time as tm\n\nt1= tm.perf_counter()\n# le code à exécuter\nt2= tm.perf_counter()\nprint(\"Temps d'exécution=\",t2-t1,\"secondes\")\n```\n"
  },
  {
   "cell_type": "code",
   "execution_count": 4,
   "metadata": {
    "trusted": true
   },
   "outputs": [
    {
     "name": "stdout",
     "output_type": "stream",
     "text": "Il faut 0.0 [s] pour calculer le pgcd(1600,259) avec l'algorithme d'Euclide\nIl faut 9.99989999996842e-05 [s] pour calculer le pgcd(1600,259) avec l'algorithme naif\nIl faut 0.0 [s] pour calculer le pgcd(418372976,418372976) avec l'algorithme d'Euclide\nIl faut 50.070300001 [s] pour calculer le pgcd(418372976,418372976) avec l'algorithme naif\n"
    }
   ],
   "source": "from time import perf_counter\n\na,b = 1600, 259\n\nt1 = perf_counter()\nd = pgcd_euclide(a,b)\nt2= perf_counter()\ndelta_t = t2 - t1\nprint(f\"Il faut {delta_t} [s] pour calculer le pgcd({a},{b}) avec l'algorithme d'Euclide\")\n    \nt1 = perf_counter()\nd = pgcd_naif(a,b)\nt2= perf_counter()\ndelta_t = t2 - t1\nprint(f\"Il faut {delta_t} [s] pour calculer le pgcd({a},{b}) avec l'algorithme naif\")\n\na,b = 418372976, 418372976\n\nt1 = perf_counter()\nd = pgcd_euclide(a,b)\nt2= perf_counter()\ndelta_t = t2 - t1\nprint(f\"Il faut {delta_t} [s] pour calculer le pgcd({a},{b}) avec l'algorithme d'Euclide\")\n    \nt1 = perf_counter()\nd = pgcd_naif(a,b)\nt2= perf_counter()\ndelta_t = t2 - t1\nprint(f\"Il faut {delta_t} [s] pour calculer le pgcd({a},{b}) avec l'algorithme naif\")\n"
  },
  {
   "cell_type": "markdown",
   "metadata": {},
   "source": "---\n### Exercice 11\n\na) Ecrire dans un éditeur la fonction Python : `euclide_etendu(a,b)` qui calcule le PGCD et les coefficients de Bézout u et v de deux nombres entiers positifs a et b avec l’algorithme d’Euclide étendu."
  },
  {
   "cell_type": "code",
   "execution_count": 6,
   "metadata": {
    "trusted": true
   },
   "outputs": [],
   "source": "def euclide_etendu(a,b):\n    # valeures initiales des coeff\n    u_n, u_nm1 = 0, 1 \n    v_n, v_nm1 = 1, 0 \n\n    while b!=0:\n        q = a // b\n        r = a % b\n        # La relation de récurrence\n        u_new = u_nm1 - q * u_n\n        v_new = v_nm1 - q * v_n\n        \n        # mis à jour pour l'itération suivante\n        u_n, u_nm1 = u_new, u_n\n        v_n, v_nm1 = v_new, v_n\n        a,b = b, r\n        \n    return a, u_nm1 , v_nm1"
  },
  {
   "cell_type": "markdown",
   "metadata": {},
   "source": "Tester votre programme avec les nombres suivants : \n- $a=600;b=124$\n- $a=777;b=441$\n- $a=62;b=43$\n- $a=30;b=15$\n- $a=3;b=26$\n- $a=4;b=26$ \n\n*Exemple: Pour vérifier que votre programme fonctionne, vous devriez obtenir les résultats suivants:*\n\n```python\nIn  : euclide_etendu(8,5)\nOut : (1, 2, -3)\t\n\nIn  : euclide_etendu(600,124)\nOut : (4, 6, -29)\n```"
  },
  {
   "cell_type": "code",
   "execution_count": 7,
   "metadata": {
    "trusted": true
   },
   "outputs": [
    {
     "data": {
      "text/plain": "(1, 2, -3)"
     },
     "execution_count": 7,
     "metadata": {},
     "output_type": "execute_result"
    }
   ],
   "source": "euclide_etendu(8,5)"
  },
  {
   "cell_type": "code",
   "execution_count": 8,
   "metadata": {
    "trusted": true
   },
   "outputs": [
    {
     "data": {
      "text/plain": "(4, 6, -29)"
     },
     "execution_count": 8,
     "metadata": {},
     "output_type": "execute_result"
    }
   ],
   "source": "euclide_etendu(600,124)"
  },
  {
   "cell_type": "code",
   "execution_count": 9,
   "metadata": {
    "trusted": true
   },
   "outputs": [
    {
     "data": {
      "text/plain": "(21, 4, -7)"
     },
     "execution_count": 9,
     "metadata": {},
     "output_type": "execute_result"
    }
   ],
   "source": "euclide_etendu(777,441)"
  },
  {
   "cell_type": "code",
   "execution_count": 10,
   "metadata": {
    "trusted": true
   },
   "outputs": [
    {
     "data": {
      "text/plain": "(1, -9, 13)"
     },
     "execution_count": 10,
     "metadata": {},
     "output_type": "execute_result"
    }
   ],
   "source": "euclide_etendu(62, 43)"
  },
  {
   "cell_type": "code",
   "execution_count": 11,
   "metadata": {
    "trusted": true
   },
   "outputs": [
    {
     "data": {
      "text/plain": "(1, 9, -1)"
     },
     "execution_count": 11,
     "metadata": {},
     "output_type": "execute_result"
    }
   ],
   "source": "euclide_etendu(3, 26)"
  },
  {
   "cell_type": "code",
   "execution_count": 12,
   "metadata": {
    "trusted": true
   },
   "outputs": [
    {
     "data": {
      "text/plain": "(4, 6, -29)"
     },
     "execution_count": 12,
     "metadata": {},
     "output_type": "execute_result"
    }
   ],
   "source": "euclide_etendu(600, 124)"
  },
  {
   "cell_type": "markdown",
   "metadata": {},
   "source": "b) En utilisant la fonction euclide_etendu(a,b), écrire un programme en Python qui affiche le PGCD et l’égalité entre le PGCD et la combinaison linéaire constituée des coefficients de Bézout de deux nombres entiers positifs donnés a et b.\n\nAutrement dit :  $PGCD\\left( a;b \\right)=d$  et $a\\cdot u+b\\cdot v=d$ \n"
  },
  {
   "cell_type": "code",
   "execution_count": 13,
   "metadata": {
    "trusted": true
   },
   "outputs": [
    {
     "name": "stdout",
     "output_type": "stream",
     "text": "PGCD(600;124)=4\net\n600·(6)+124·(-29)=4\n"
    }
   ],
   "source": "a,b = 600,124\nd, u, v = euclide_etendu(a,b)\n\nprint(f\"PGCD({a};{b})={d}\")\nprint(\"et\")\nprint(f\"{a}·({u})+{b}·({v})={d}\")"
  },
  {
   "cell_type": "markdown",
   "metadata": {},
   "source": "---\n### Exercice 13\n\nEn utilisant la fonction `pgcd_euclide(a,b)`, écrire une fonction  `ppcm(a,b)` qui calcule le PPCM de deux nombres entiers positifs a et b"
  },
  {
   "cell_type": "code",
   "execution_count": 30,
   "metadata": {
    "trusted": true
   },
   "outputs": [],
   "source": "def ppcm(a,b):\n    \n    return (a*b)// pgcd_euclide(a,b)"
  },
  {
   "cell_type": "markdown",
   "metadata": {},
   "source": "*Exemple: Pour vérifier que votre programme fonctionne, vous devriez obtenir les résultats suivants:*\n\n```python\nIn  : ppcm(30,250)\nOut : 750\t\n\nIn  : ppcm(3,5)\nOut : 15\n\n```"
  },
  {
   "cell_type": "code",
   "execution_count": 31,
   "metadata": {
    "trusted": true
   },
   "outputs": [
    {
     "data": {
      "text/plain": "750"
     },
     "execution_count": 31,
     "metadata": {},
     "output_type": "execute_result"
    }
   ],
   "source": "ppcm(30,250)"
  },
  {
   "cell_type": "code",
   "execution_count": 35,
   "metadata": {
    "trusted": true
   },
   "outputs": [
    {
     "data": {
      "text/plain": "15"
     },
     "execution_count": 35,
     "metadata": {},
     "output_type": "execute_result"
    }
   ],
   "source": "ppcm(3, 5)"
  },
  {
   "cell_type": "markdown",
   "metadata": {},
   "source": "Tester votre programme avec les nombres suivants :\n- $a=12;b=18$\n- $a=12;b=100$\n- $a=62;b=43$ \n"
  },
  {
   "cell_type": "code",
   "execution_count": 32,
   "metadata": {
    "trusted": true
   },
   "outputs": [
    {
     "data": {
      "text/plain": "36"
     },
     "execution_count": 32,
     "metadata": {},
     "output_type": "execute_result"
    }
   ],
   "source": "ppcm(12, 18)"
  },
  {
   "cell_type": "code",
   "execution_count": 33,
   "metadata": {
    "trusted": true
   },
   "outputs": [
    {
     "data": {
      "text/plain": "300"
     },
     "execution_count": 33,
     "metadata": {},
     "output_type": "execute_result"
    }
   ],
   "source": "ppcm(12, 100)"
  },
  {
   "cell_type": "code",
   "execution_count": 34,
   "metadata": {
    "trusted": true
   },
   "outputs": [
    {
     "data": {
      "text/plain": "2666"
     },
     "execution_count": 34,
     "metadata": {},
     "output_type": "execute_result"
    }
   ],
   "source": "ppcm(62, 43)"
  },
  {
   "cell_type": "markdown",
   "metadata": {},
   "source": "---\n### Exercice 14\n\nEn utilisant les fonctions `pgcd_euclide(a,b)` et `ppcm(a,b)`, écrire une fonction Python `add_frac(a, b, c, d)` qui qui additionne deux fractions $\\frac{a}{b}+\\frac{c}{d}$ et retourne le numérateur et le dénominateur du résultat sous la forme d’un fraction simplifiée"
  },
  {
   "cell_type": "code",
   "execution_count": 36,
   "metadata": {
    "trusted": true
   },
   "outputs": [],
   "source": "def add_frac(a, b, c, d):\n    \n    # simplifions les fractions \n    d1 = pgcd_euclide(a,b)\n    a  = a // d1\n    b  = b // d1\n    d2 = pgcd_euclide(c,d)\n    c = c // d2\n    d = d // d2\n\n    # somme\n    m=ppcm(b,d)\n    k1=m//b\n    k2=m//d\n    e=a*k1+c*k2\n    f=m\n\n    # simplification du résultat\n    d3 = pgcd_euclide(e,f)\n    e = e // d3\n    f = f // d3\n    \n    return e, f"
  },
  {
   "cell_type": "markdown",
   "metadata": {},
   "source": "*Exemple: Pour vérifier que votre programme fonctionne, vous devriez obtenir les résultats suivants:*\n\n```python\nIn  : add_frac(8,12,5,6)\nOut : (3, 2)\t\n\nIn  : add_frac(15,20,8,40)\nOut : (19, 20)\n```"
  },
  {
   "cell_type": "code",
   "execution_count": 37,
   "metadata": {
    "trusted": true
   },
   "outputs": [
    {
     "data": {
      "text/plain": "(3, 2)"
     },
     "execution_count": 37,
     "metadata": {},
     "output_type": "execute_result"
    }
   ],
   "source": "add_frac(8,12,5,6)"
  },
  {
   "cell_type": "code",
   "execution_count": 39,
   "metadata": {
    "trusted": true
   },
   "outputs": [
    {
     "data": {
      "text/plain": "(3, 2)"
     },
     "execution_count": 39,
     "metadata": {},
     "output_type": "execute_result"
    }
   ],
   "source": "add_frac(8,12,5,6)"
  },
  {
   "cell_type": "markdown",
   "metadata": {},
   "source": "Tester votre programme avec les additions de fractions suivantes : \n- $\\frac{4}{8}+\\frac{8}{20}$\n- $\\frac{300}{700}+\\frac{124}{854}$ \n"
  },
  {
   "cell_type": "code",
   "execution_count": 40,
   "metadata": {
    "trusted": true
   },
   "outputs": [
    {
     "data": {
      "text/plain": "(9, 10)"
     },
     "execution_count": 40,
     "metadata": {},
     "output_type": "execute_result"
    }
   ],
   "source": "add_frac(4, 8, 8, 20)"
  },
  {
   "cell_type": "code",
   "execution_count": 41,
   "metadata": {
    "trusted": true
   },
   "outputs": [
    {
     "data": {
      "text/plain": "(35, 61)"
     },
     "execution_count": 41,
     "metadata": {},
     "output_type": "execute_result"
    }
   ],
   "source": "add_frac(300, 700, 124, 854)"
  },
  {
   "cell_type": "markdown",
   "metadata": {},
   "source": "---\n### Exercice 16\n\na) Ecrire dans une fonction Python : `inv_mod(a,n)` qui \n\n- l’inverse $a^{-1}$ de a modulo n,  lorsque   existe.\n- `False`, lorsque  $a^{-1}$ n’existe pas.\n"
  },
  {
   "cell_type": "code",
   "execution_count": 44,
   "metadata": {
    "trusted": true
   },
   "outputs": [],
   "source": "def inv_mod(a,n):\n    d, u, v = euclide_etendu(a, n)\n    if d != 1:\n        return False\n    else:\n        return u % n # pour avoir un représentant entre 0 et n-1"
  },
  {
   "cell_type": "markdown",
   "metadata": {},
   "source": "Tester votre programme avec les nombres suivants : \n- $a=25$ et $n=26$\n- $a=13$ et $n=271$\n- $a=15$ et $n=30$ "
  },
  {
   "cell_type": "code",
   "execution_count": 45,
   "metadata": {
    "trusted": true
   },
   "outputs": [
    {
     "data": {
      "text/plain": "25"
     },
     "execution_count": 45,
     "metadata": {},
     "output_type": "execute_result"
    }
   ],
   "source": "inv_mod(25, 26)"
  },
  {
   "cell_type": "code",
   "execution_count": 48,
   "metadata": {
    "trusted": true
   },
   "outputs": [
    {
     "data": {
      "text/plain": "146"
     },
     "execution_count": 48,
     "metadata": {},
     "output_type": "execute_result"
    }
   ],
   "source": "inv_mod(13, 271)"
  },
  {
   "cell_type": "code",
   "execution_count": 49,
   "metadata": {
    "trusted": true
   },
   "outputs": [
    {
     "data": {
      "text/plain": "False"
     },
     "execution_count": 49,
     "metadata": {},
     "output_type": "execute_result"
    }
   ],
   "source": "inv_mod(15, 30)"
  },
  {
   "cell_type": "markdown",
   "metadata": {},
   "source": "b) En utilisant la fonction `inv_mod(a,n)`, écrire un programme en Python  qui demande à l’utilisateur un nombre entier $n\\ge 2$ fixé, puis affiche tous les inverses ${{a}^{-1}}$ modulo n .\n\n*Exemple: Pour vérifier que votre programme fonctionne, vous devriez obtenir les résultats suivants:*\n\n```python\n\nIn :     n=5\nOut :  Inverse de 1 modulo 5 est : 1\n       Inverse de 2 modulo 5 est : 3\n       Inverse de 3 modulo 5 est : 2\n       Inverse de 4 modulo 5 est : 4\n\n\t\nIn :     n=8\nOut :  Inverse de 1 modulo 8 est : 1\n       Inverse de 2 modulo 8 n’existe pas\n       Inverse de 3 modulo 8 est : 3\n       Inverse de 4 modulo 8 n’existe pas\n       Inverse de 5 modulo 8 est : 5\n       Inverse de 6 modulo 8 n’existe pas\n       Inverse de 7 modulo 8 est : 7\n```"
  },
  {
   "cell_type": "code",
   "execution_count": 53,
   "metadata": {
    "trusted": true
   },
   "outputs": [
    {
     "name": "stdout",
     "output_type": "stream",
     "text": "n = 8\nInverse de 0 modulo 8 n'existe pas\nInverse de 1 modulo 8 est : 1\nInverse de 2 modulo 8 n'existe pas\nInverse de 3 modulo 8 est : 3\nInverse de 4 modulo 8 n'existe pas\nInverse de 5 modulo 8 est : 5\nInverse de 6 modulo 8 n'existe pas\nInverse de 7 modulo 8 est : 7\n"
    }
   ],
   "source": "n = int(input(\"n = \"))\nfor a in range(n):\n    u = inv_mod(a, n)\n    if not u :\n        print(f\"Inverse de {a} modulo {n} n'existe pas\")\n    else:\n        print(f\"Inverse de {a} modulo {n} est : {u}\")"
  },
  {
   "cell_type": "markdown",
   "metadata": {},
   "source": "---\n### Exercice 18\n\na) Écrire une fonction Python `primalite(n)` qui vérifie si le nombre `n` est premier, dans ce cas las fonction retourne `True` sinon elle retourne `False`. "
  },
  {
   "cell_type": "code",
   "execution_count": 23,
   "metadata": {
    "trusted": true
   },
   "outputs": [
    {
     "name": "stderr",
     "output_type": "stream",
     "text": "  File \"<basthon-input-23-31311f8dbe5b>\", line 4\n    if ...\n          ^\nSyntaxError: expected ':'\n"
    }
   ],
   "source": "from math import sqrt\n\ndef primalite(n):\n    if ...\n        return ...\n    else:\n        for ...\n            if ...\n                return ...\n        return ...\n"
  },
  {
   "cell_type": "markdown",
   "metadata": {},
   "source": "Tester la primalité des nombres `n` ci-dessous avec `primalite(n)`.\n- $n={{2}^{19}}-1$\n- $n={{2}^{23}}-1$\n- $n={{2}^{31}}-1$\n- $n={{2}^{37}}-1$\n\n*Exemple: Pour vérifier que votre programme fonctionne, vous devriez obtenir les résultats suivants:*\n\n```python\nIn  : primalite(2**19 -1)\nOut : True\n\nIn  : primalite(2**23 -1)\nOut : False\n```"
  },
  {
   "cell_type": "code",
   "execution_count": 24,
   "metadata": {
    "trusted": true
   },
   "outputs": [],
   "source": "# pour tester\n"
  },
  {
   "cell_type": "markdown",
   "metadata": {},
   "source": "b) En utilisant la fonction `primalite(n)`, écrire une fonction en Python `premier_sup(n)`qui retourne le premier nombre premier supérieur ou égal au nombre `n` donné.\n\n*Exemple: Pour vérifier que votre programme fonctionne, vous devriez obtenir les résultats suivants:*\n\n```python\nIn    : premier_sup(50)\nOut : 53\n\nIn    : premier_sup(10**6)\nOut : 1000003\n\n```"
  },
  {
   "cell_type": "code",
   "execution_count": 25,
   "metadata": {
    "trusted": true
   },
   "outputs": [],
   "source": "def premier_sup(n):\n        # à compléter\n    \n    return ...\n\n"
  },
  {
   "cell_type": "markdown",
   "metadata": {},
   "source": "Tester votre programme avec les nombres suivants :\n- $n={{10}^{2}}$\n- $n={{10}^{6}}$\n- $n={{10}^{12}}$\n- $n={{10}^{15}}$\n"
  },
  {
   "cell_type": "code",
   "execution_count": 26,
   "metadata": {
    "trusted": true
   },
   "outputs": [],
   "source": "# pour tester\n"
  },
  {
   "cell_type": "markdown",
   "metadata": {},
   "source": "---\n### Exercice 20\n\nEn utilisant la fonction `primalite(n)`, et la proposition (1.13), écrire un programme en Python qui affiche les m premiers nombres premiers de Mersenne avec comme informations supplémentaires le nombre de chiffres en base 10 ainsi que le temps nécessaire à votre ordinateur pour effectuer le test de primalité (voir l’exercice 4 pour se souvenir de comment mesure le temps en Python).\n\n*Exemple: Pour vérifier que votre programme fonctionne, vous devriez obtenir les résultats suivants:*\n\n```python\n1      M_ 2 = 2** 2 -1  est premier et possede 1 chiffres.    \n       Temps du test : 9.130653680848098e-05 secondes\n2      M_ 3 = 2** 3 -1  est premier et possede 1 chiffres.    \n        Temps du test : 7.964433117250676e-06 secondes\n3      M_ 5 = 2** 5 -1  est premier et possede 2 chiffres.    \n        Temps du test : 5.688880798036073e-06 secondes\n4      M_ 7 = 2** 7 -1  est premier et possede 3 chiffres.    \n        Temps du test : 5.68888079803629e-06 secondes\n5      M_ 13 = 2** 13 -1  est premier et possede 4 chiffres.    \n        Temps du test : 7.111100997545146e-06 secondes\n…….\n\n\n```\n\nTester votre programme avec les nombres suivants :\n- $m=5$\n- $m=10$\n- $m=15$\n"
  },
  {
   "cell_type": "code",
   "execution_count": 27,
   "metadata": {
    "trusted": true
   },
   "outputs": [],
   "source": "# votre programme"
  },
  {
   "cell_type": "markdown",
   "metadata": {},
   "source": "---\n### Exercice 23\n\nEcrire dans un éditeur la fonction Python : decomposition_premiers(n) qui retourne la décomposition en nombre premiers de n sous la forme d’une liste. \n\n*Exemple: Pour vérifier que votre programme fonctionne, vous devriez obtenir les résultats suivants:*\n\n```python\nIn  : decomposition_premier(126)\nOut : [2, 3, 3, 7]\n\n```"
  },
  {
   "cell_type": "code",
   "execution_count": 28,
   "metadata": {
    "trusted": true
   },
   "outputs": [],
   "source": "def decomposition_premier(n):\n    D = []\n    p = 2\n    while ... :\n        if ... :            \n            ...\n            ...\n        else:\n            ...\n            \n    return ...\n"
  },
  {
   "cell_type": "markdown",
   "metadata": {},
   "source": "Tester votre programme avec les nombres suivants : \n- $n=1500$\n- $n=123456789$\n- $n=125484723$ \n"
  },
  {
   "cell_type": "code",
   "execution_count": 29,
   "metadata": {
    "trusted": true
   },
   "outputs": [],
   "source": "# votre programme"
  },
  {
   "cell_type": "code",
   "execution_count": null,
   "metadata": {
    "trusted": true
   },
   "outputs": [],
   "source": ""
  },
  {
   "cell_type": "markdown",
   "metadata": {},
   "source": "---\n\n#### Remarque générale\n\nUne majorité des exercices de ce notebook sont issues du cours d'applications des mathématiques des S. Piccione. Il est sous license Creative Commons [BY-NC-SA](https://creativecommons.org/licenses/?lang=fr)\n![Licence Creative Commons](https://i.creativecommons.org/l/by-nc-sa/4.0/88x31.png)"
  }
 ],
 "metadata": {
  "celltoolbar": "Éditer les Méta-Données",
  "kernelspec": {
   "display_name": "Python 3 (ipykernel)",
   "language": "python",
   "name": "python3"
  }
 },
 "nbformat": 4,
 "nbformat_minor": 2
}
