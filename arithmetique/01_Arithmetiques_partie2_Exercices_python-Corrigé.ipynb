{
 "cells": [
  {
   "cell_type": "markdown",
   "metadata": {},
   "source": [
    "<div class = \"alert  alert-danger\"> \n",
    "    \n",
    "Attention: **veillez à bien sauvegarder votre travail** dans le bon dossier du disque réseau (dossier document) avec le bon nom (et l'extension *.ipynb*), **sinon toutes les modifications seront perdues!**\n",
    "\n",
    "Pour reprendre votre travail, il suffit d'ouvrir le fichier .ipynb en cliquant sur le bouton \"Ouvrir\"  &nbsp; <i class=\"fa fa-folder\" aria-hidden=\"true\"> \n",
    "</div>"
   ]
  },
  {
   "cell_type": "markdown",
   "metadata": {},
   "source": [
    "# Exercices Python du chapitre \"Arithmétique, partie 2\" \n",
    "\n",
    "\n",
    "\n",
    "*source: Ce premier chapitre est tiré d'un NB de M. Andjekel du [Lycée Levavasseu](https://www.levavasseur.xyz)*.\n",
    "\n",
    "## 🟥 Préambule : comment utiliser un notebook\n",
    "\n",
    "L'environnement que vous avez sous les yeux se nomme  ***Jupyter notebook***.\n",
    "\n",
    "### Avantages\n",
    "\n",
    "- Un notebook est un  document \"mixte\" contenant des cellules de **texte** explicatif et des cellules contenant des programmes qui sont **exécutable**.\n",
    "- Ce format est plus lisible que de simples commentaires python, et évite de basculer entre 2 logiciels, celui qui indique le travail à faire et celui qui exécute le code python. \n",
    "\n",
    "\n",
    "\n",
    "### Utilisation\n",
    "En haut du notebook, se trouve :\n",
    "- Une barre, contenant de gauche à droite, le logo Jupyter, le titre du notebook, le logo python et le bouton <button> Retour </button>.\n",
    "- En-dessous, le menu <span style=\"border: 2px solid #e7e7e7; background : #f8f8f8\"> <span style=\"color: #565656;\" >Fichier &emsp; &emsp; … &emsp; &emsp; Noyau &emsp; &emsp; Aide </span> </span> &emsp;  \n",
    "- Enfin, une barre d'icônes, de boutons qui sont des raccourcis vers certains menus fréquemment utilisés. Si vous laissez votre souris au-dessus d'une icône, un texte indiquant sa fonction apparaît. \n",
    "\n",
    "<div class=\"alert alert-success\" style=\"border-left: 5px solid #3c763d;border-radius: 5px;\">\n",
    "    \n",
    "**Un notebook est une suite de cellules** contenant, soit du **texte**, soit du **code**. \n",
    "\n",
    "- Les cellules de code sont facilement reconnaissables, elles sont précédées de `Entrée [ ]:`\n",
    "- La cellule qui suit celle que vous êtes en train de lire est une cellule de code.\n",
    "- Pour exécuter (évaluer) une cellule de code, il faut la sélectionner (un trait bleu ciel, gras et vertical est alors à sa gauche) :\n",
    "    - puis utiliser l'icone  <button class='fa fa-step-forward'> Exécuter</button>, qui vous fait passer d'une cellule à la suivante en affichant le résultat de l'exécution;\n",
    "    - ou enfoncer simultanément les touches <span><kbd><span style=\"color:white;background-color:black\" ><b> ⇧ Maj </b></span></kbd></span> et <span><b><kbd><span style=\"color:white;background-color:black\" > ↲ Entrée </span></kbd></b></span>.</div> \n",
    "\n",
    "* La façon habituelle d'utiliser un notebook consiste à :\n",
    "\n",
    "\n",
    "    - commencer à la première cellule;\n",
    "    \n",
    "    - une fois qu'on l'a comprise ou complétée, l'éxécuter;\n",
    "    \n",
    "    - puis recommencer cellule après cellule jusqu'à la fin du notebook.\n",
    "</div>\n",
    "\n",
    "<div class=\"alert alert-warning\" >\n",
    "\n",
    "Entrainez-vous en **exécutant** la cellule de type ***code*** ci-dessous :\n",
    "</div>"
   ]
  },
  {
   "cell_type": "code",
   "execution_count": 1,
   "metadata": {},
   "outputs": [
    {
     "name": "stdout",
     "output_type": "stream",
     "text": [
      "J'ai  43 ans\n"
     ]
    }
   ],
   "source": [
    "print(\"J'ai \", 2025-1982, \"ans\")"
   ]
  },
  {
   "cell_type": "markdown",
   "metadata": {},
   "source": [
    "<div class=\"alert alert-success\" style=\"border-left: 5px solid #3c763d;border-radius: 5px;\">\n",
    "    \n",
    "- Lorsqu'une cellule de code a été évaluée, jupyter notebook ajoute sous la cellule Entrée une cellule `Sortie [x] :`\n",
    "- Jupyter notebook ajoute également un nombre `x` entre les crochets de l'entrée, par exemple ci-dessus, `Entrée [1]:`\n",
    "    </div>\n",
    "    \n",
    "Ce nombre vous permet de retrouver l'ordre dans lequel les cellules ont été évaluées.\n",
    "\n",
    "La cellule `Sortie` contient le résultat de l'exécution du fragment python, soit ci-dessus `J'ai  43 ans`.\n",
    "\n",
    "### Créer une nouvelle cellule\n",
    "\n",
    "Vous pouvez facilement créer de nouvelles cellules :\n",
    "\n",
    "- À l'aide du menu « *Insert* ».\n",
    "- En utilisant le raccourci <kbd>echap</kbd>+<kbd>B</kbd> pour insérer une cellule en dessous de la\n",
    "  cellule actuelle (ou <kbd>echap</kbd>+<kbd>A</kbd> pour le faire au dessus), puis en appuyant sur\n",
    "  <kbd>↩</kbd> pour entrer en mode édition.\n",
    "\n",
    "(Précisément : <kbd>echap</kbd> vous passe en mode « commande », puis <kbd>B</kbd> lance la commande\n",
    "« insérer une cellule ci-dessous », et <kbd>↩</kbd> vous sort du mode commande pour passer en mode\n",
    "édition).\n",
    "\n",
    "\n",
    "!!! info En savoir plus sur les cellules textes\n",
    "Il est possible de transformer une cellule texte en cellule programme et réciproquement. Pour cela, lorsque vous avez sélectionné un cellule allez dans la barre d'outils, et utiliser la boîte déroulate pour mettre la cellule en « Code » pour éditer des programmes ou en mode « Markdown » pour du texte.  Vous pouvez aussi utiliser <kbd>echap</kbd>+<kbd>M</kbd> pour passer une cellule en mode Markdown ou <kbd>echap</kbd>+<kbd>Y</kbd> pour la passer en mode code (n'oubliez pas de rappuyer sur\n",
    "<kbd>↩</kbd> pour repasser en mode édition).\n",
    "    \n",
    "\n",
    "En utilisant la [syntaxe markdown](https://www.carnets.info/jupyter/memomd/), on peut mettre en forme du texte, insérer des liens, des tableaux, des images ou des formules mathématiques. Les cellules Markdown mettent en forme leur contenu lorsqu'on les éxécutes (comme des cellules « Codes »).\n",
    "!!!\n",
    "\n",
    "Pour ce cours, vous pouvez considérer les *notebooks* comme les chapitres d'un manuel de cours interactif. Tous les programmes de ce manuel peuvent être exécutés (comme vous l'avez fait ci-dessus) pour voir leur résultat **et vous pouvez y ajouter votre propre code et vos propres textes**, comme si vous pouviez écrire dans les pages de votre manuel pour le modifier. Pour garder vos modifications d'un cours à l'autre, il faudra sauvegarder le notebook dans votre dossier personnel.\n"
   ]
  },
  {
   "cell_type": "markdown",
   "metadata": {},
   "source": [
    "\n",
    "## Exercices Python du chapitre\n",
    "\n"
   ]
  },
  {
   "cell_type": "markdown",
   "metadata": {},
   "source": [
    "### Exercice 3\n",
    "\n",
    "a) En Python, écrire une fonction `pgcd_euclide(a,b)`  qui calcule le   de deux nombres entiers positifs a et b avec l’algorithme d’Euclide. \n",
    "\n",
    "*Rappel : en python le reste de la division Euclidienne s’obtient en utilisant le symbole `%`.*\n"
   ]
  },
  {
   "cell_type": "code",
   "execution_count": 1,
   "metadata": {},
   "outputs": [],
   "source": [
    "def pgcd_euclide(a,b):\n",
    "    while b!=0:\n",
    "        r=a%b\n",
    "        a=b\n",
    "        b=r\n",
    "    return a"
   ]
  },
  {
   "cell_type": "markdown",
   "metadata": {},
   "source": [
    "b) Tester votre programme avec les nombres suivants :  \n",
    "- $a=777;b=441$\n",
    "- $a=1600;b=259$\n",
    "- $a=9185;b=2004$\n",
    "- $a=600;b=1$ \n",
    "\n",
    "Pour vérifier que  `pgcd_euclide(777, 441)=21`, `pgcd_euclide(9185,2004)=167`; `pgcd_euclide(1600; 259)=1` et `pgcd_euclide(600; 1)=1`\n",
    " "
   ]
  },
  {
   "cell_type": "code",
   "execution_count": 3,
   "metadata": {},
   "outputs": [
    {
     "name": "stdout",
     "output_type": "stream",
     "text": [
      "PGCD(777, 441)=21\n",
      "PGCD(1600, 259)=1\n",
      "PGCD(9185, 2004)=167\n",
      "PGCD(600, 1)=1\n"
     ]
    }
   ],
   "source": [
    "a, b = 777, 441\n",
    "d = pgcd_euclide(a,b)\n",
    "print(f\"PGCD({a}, {b})={d}\")\n",
    "\n",
    "a, b = 1600, 259\n",
    "d = pgcd_euclide(a,b)\n",
    "print(f\"PGCD({a}, {b})={d}\")\n",
    "\n",
    "a, b = 9185, 2004\n",
    "d = pgcd_euclide(a,b)\n",
    "print(f\"PGCD({a}, {b})={d}\")\n",
    "\n",
    "a, b = 600, 1\n",
    "d = pgcd_euclide(a,b)\n",
    "print(f\"PGCD({a}, {b})={d}\")"
   ]
  },
  {
   "cell_type": "markdown",
   "metadata": {},
   "source": [
    "---\n",
    "### Exercice 4\n",
    "\n",
    "L’année dernière, nous avions monté qu’une méthode simple pour trouver le pgcd entre deux nombres $a$ et $b$ , consistait à tester tous les nombres entiers plus petit que $a$ et $b$ en testant s’ils sont aussi des diviseurs de $a$ et $b$. Ceci nous avait amené à l’algorithme suivant :"
   ]
  },
  {
   "cell_type": "code",
   "execution_count": 6,
   "metadata": {},
   "outputs": [],
   "source": [
    "def pgcd_naif(a,b):\n",
    "    m = min(a,b)  \n",
    "    d_max = 1 # le pgcd \n",
    "    for d in range(2,m+1):\n",
    "        # si d est un diviseur de a et b\n",
    "        if a%d==0 and b%d==0 :\n",
    "            d_max = d\n",
    "    \n",
    "    return d_max\n"
   ]
  },
  {
   "cell_type": "markdown",
   "metadata": {},
   "source": [
    "Comparer le temps nécessaire pour calculer le pgcd des pairs de nombres ci-dessous entre l’algorithme naïf proposé ci-dessus et l’algorithme d’Euclide.\n",
    "- $a=418372976;b=418372976$\n",
    "- $a=1600;b=259$\n",
    "\n",
    "*Rappel    En Python on peut calculer le temps d’exécution d’un programme à l’aide des commandes suivantes :*\n",
    "```python\n",
    "import time as tm\n",
    "\n",
    "t1= tm.perf_counter()\n",
    "# le code à exécuter\n",
    "t2= tm.perf_counter()\n",
    "print(\"Temps d'exécution=\",t2-t1,\"secondes\")\n",
    "```\n"
   ]
  },
  {
   "cell_type": "code",
   "execution_count": 12,
   "metadata": {},
   "outputs": [
    {
     "name": "stdout",
     "output_type": "stream",
     "text": [
      "Il faut 0.0002404309925623238 pour calculer le pgcd(1600,259) avec l'algorithme d'Euclide\n",
      "Il faut 0.00023844902170822024 pour calculer le pgcd(1600,259) avec l'algorithme naif\n",
      "Il faut 0.0001746630296111107 pour calculer le pgcd(418372976,418372976) avec l'algorithme d'Euclide\n",
      "Il faut 23.012612015998457 pour calculer le pgcd(418372976,418372976) avec l'algorithme naif\n"
     ]
    }
   ],
   "source": [
    "from time import perf_counter\n",
    "\n",
    "a,b = 1600, 259\n",
    "\n",
    "t1 = perf_counter()\n",
    "d = pgcd_euclide(a,b)\n",
    "t2= perf_counter()\n",
    "delta_t = t2 - t1\n",
    "print(f\"Il faut {delta_t} [s] pour calculer le pgcd({a},{b}) avec l'algorithme d'Euclide\")\n",
    "    \n",
    "t1 = perf_counter()\n",
    "d = pgcd_naif(a,b)\n",
    "t2= perf_counter()\n",
    "delta_t = t2 - t1\n",
    "print(f\"Il faut {delta_t} [s] pour calculer le pgcd({a},{b}) avec l'algorithme naif\")\n",
    "\n",
    "a,b = 418372976, 418372976\n",
    "\n",
    "t1 = perf_counter()\n",
    "d = pgcd_euclide(a,b)\n",
    "t2= perf_counter()\n",
    "delta_t = t2 - t1\n",
    "print(f\"Il faut {delta_t} [s] pour calculer le pgcd({a},{b}) avec l'algorithme d'Euclide\")\n",
    "    \n",
    "t1 = perf_counter()\n",
    "d = pgcd_naif(a,b)\n",
    "t2= perf_counter()\n",
    "delta_t = t2 - t1\n",
    "print(f\"Il faut {delta_t} [s] pour calculer le pgcd({a},{b}) avec l'algorithme naif\")\n"
   ]
  },
  {
   "cell_type": "markdown",
   "metadata": {},
   "source": [
    "---\n",
    "### Exercice 11\n",
    "\n",
    "a) Ecrire dans un éditeur la fonction Python : `euclide_etendu(a,b)` qui calcule le PGCD et les coefficients de Bézout u et v de deux nombres entiers positifs a et b avec l’algorithme d’Euclide étendu."
   ]
  },
  {
   "cell_type": "code",
   "execution_count": 11,
   "metadata": {},
   "outputs": [
    {
     "ename": "SyntaxError",
     "evalue": "invalid syntax (3738604681.py, line 3)",
     "output_type": "error",
     "traceback": [
      "\u001b[0;36m  Cell \u001b[0;32mIn[11], line 3\u001b[0;36m\u001b[0m\n\u001b[0;31m    u_n, u_nm1 = # à compléter\u001b[0m\n\u001b[0m                 ^\u001b[0m\n\u001b[0;31mSyntaxError\u001b[0m\u001b[0;31m:\u001b[0m invalid syntax\n"
     ]
    }
   ],
   "source": [
    "def euclide_etendu(a,b):\n",
    "    \n",
    "    u_n, u_nm1 = # à compléter\n",
    "    v_n, v_nm1 = # à compléter\n",
    "\n",
    "    while # à compléter\n",
    "        # à compléter\n",
    "        \n",
    "        \n",
    "    return # à compléter"
   ]
  },
  {
   "cell_type": "markdown",
   "metadata": {},
   "source": [
    "Tester votre programme avec les nombres suivants : \n",
    "- $a=600;b=124$\n",
    "- $a=777;b=441$\n",
    "- $a=62;b=43$\n",
    "- $a=30;b=15$\n",
    "- $a=3;b=26$\n",
    "- $a=4;b=26$ \n",
    "\n",
    "*Exemple: Pour vérifier que votre programme fonctionne, vous devriez obtenir les résultats suivants:*\n",
    "\n",
    "```python\n",
    "In  : euclide_etendu(8,5)\n",
    "Out : (1, 2, -3)\t\n",
    "\n",
    "In  : euclide_etendu(600,124)\n",
    "Out : (4, 6, -29)\n",
    "```"
   ]
  },
  {
   "cell_type": "code",
   "execution_count": null,
   "metadata": {},
   "outputs": [],
   "source": [
    "# pour tester"
   ]
  },
  {
   "cell_type": "markdown",
   "metadata": {},
   "source": [
    "b) En utilisant la fonction euclide_etendu(a,b), écrire un programme en Python qui affiche le PGCD et l’égalité entre le PGCD et la combinaison linéaire constituée des coefficients de Bézout de deux nombres entiers positifs donnés a et b.\n",
    "\n",
    "Autrement dit :  $PGCD\\left( a;b \\right)=d$  et $a\\cdot u+b\\cdot v=d$ \n"
   ]
  },
  {
   "cell_type": "code",
   "execution_count": null,
   "metadata": {},
   "outputs": [],
   "source": [
    "# votre programme"
   ]
  },
  {
   "cell_type": "markdown",
   "metadata": {},
   "source": [
    "---\n",
    "### Exercice 13\n",
    "\n",
    "En utilisant la fonction `gcd_euclide(a,b)`, écrire une fonction  `ppcm(a,b)` qui calcule le PPCM de deux nombres entiers positifs a et b"
   ]
  },
  {
   "cell_type": "code",
   "execution_count": null,
   "metadata": {},
   "outputs": [],
   "source": [
    "def ppcm(a,b):\n",
    "    # à compléter\n",
    "    \n",
    "    return ..."
   ]
  },
  {
   "cell_type": "markdown",
   "metadata": {},
   "source": [
    "*Exemple: Pour vérifier que votre programme fonctionne, vous devriez obtenir les résultats suivants:*\n",
    "\n",
    "```python\n",
    "In  : ppcm(30,250)\n",
    "Out : 750\t\n",
    "\n",
    "In  : ppcm(3,5)\n",
    "Out : 15\n",
    "\n",
    "```"
   ]
  },
  {
   "cell_type": "code",
   "execution_count": null,
   "metadata": {},
   "outputs": [],
   "source": [
    "# pour vérifier que votre programme fonctionne"
   ]
  },
  {
   "cell_type": "markdown",
   "metadata": {},
   "source": [
    "Tester votre programme avec les nombres suivants :\n",
    "- $a=12;b=18$\n",
    "- $a=12;b=100$\n",
    "- $a=62;b=43$ \n"
   ]
  },
  {
   "cell_type": "code",
   "execution_count": null,
   "metadata": {},
   "outputs": [],
   "source": [
    "# pour tester"
   ]
  },
  {
   "cell_type": "markdown",
   "metadata": {},
   "source": [
    "---\n",
    "### Exercice 14\n",
    "\n",
    "En utilisant les fonctions `pgcd_euclide(a,b)` et `ppcm(a,b)`, écrire une fonction Python `add_frac(a, b, c, d)` qui qui additionne deux fractions $\\frac{a}{b}+\\frac{c}{d}$ et retourne le numérateur et le dénominateur du résultat sous la forme d’un fraction simplifiée"
   ]
  },
  {
   "cell_type": "code",
   "execution_count": null,
   "metadata": {},
   "outputs": [],
   "source": [
    "def add_frac(a, b, c, d):\n",
    "    # à compléter\n",
    "    \n",
    "    return ..."
   ]
  },
  {
   "cell_type": "markdown",
   "metadata": {},
   "source": [
    "*Exemple: Pour vérifier que votre programme fonctionne, vous devriez obtenir les résultats suivants:*\n",
    "\n",
    "```python\n",
    "In  : add_frac(8,12,5,6)\n",
    "Out : (3, 2)\t\n",
    "\n",
    "In  : add_frac(15,20,8,40)\n",
    "Out : (19, 20)\n",
    "```"
   ]
  },
  {
   "cell_type": "code",
   "execution_count": null,
   "metadata": {},
   "outputs": [],
   "source": [
    "# pour vérifier que votre programme fonctionne"
   ]
  },
  {
   "cell_type": "markdown",
   "metadata": {},
   "source": [
    "Tester votre programme avec les additions de fractions suivantes : \n",
    "- $\\frac{4}{8}+\\frac{8}{20}$\n",
    "- $\\frac{300}{700}+\\frac{124}{854}$ \n"
   ]
  },
  {
   "cell_type": "code",
   "execution_count": null,
   "metadata": {},
   "outputs": [],
   "source": [
    "# pour tester"
   ]
  },
  {
   "cell_type": "markdown",
   "metadata": {},
   "source": [
    "---\n",
    "### Exercice 16\n",
    "\n",
    "a) Ecrire dans une fonction Python : `inv_mod(a,n)` qui \n",
    "\n",
    "- l’inverse $a^{-a}$ de a modulo n,  lorsque   existe.\n",
    "- `False`, lorsque  $a^{-a}$ n’existe pas.\n"
   ]
  },
  {
   "cell_type": "code",
   "execution_count": null,
   "metadata": {},
   "outputs": [],
   "source": [
    "def inv_mod(a,n):\n",
    "        # à compléter\n",
    "    \n",
    "    return ..."
   ]
  },
  {
   "cell_type": "markdown",
   "metadata": {},
   "source": [
    "Tester votre programme avec les nombres suivants : \n",
    "- $a=25$ et $n=26$\n",
    "- $a=13$ et $n=271$\n",
    "- $a=15$ et $n=30$ "
   ]
  },
  {
   "cell_type": "code",
   "execution_count": null,
   "metadata": {},
   "outputs": [],
   "source": [
    "# pour tester"
   ]
  },
  {
   "cell_type": "markdown",
   "metadata": {},
   "source": [
    "b) En utilisant la fonction `inv_mod(a,n)`, écrire un programme en Python  qui demande à l’utilisateur un nombre entier $n\\ge 2$ fixé, puis affiche tous les inverses ${{a}^{-1}}$ modulo n .\n",
    "\n",
    "*Exemple: Pour vérifier que votre programme fonctionne, vous devriez obtenir les résultats suivants:*\n",
    "\n",
    "```python\n",
    "\n",
    "In :     n=5\n",
    "Out :  Inverse de 1 modulo 5 est : 1\n",
    "       Inverse de 2 modulo 5 est : 3\n",
    "       Inverse de 3 modulo 5 est : 2\n",
    "       Inverse de 4 modulo 5 est : 4\n",
    "\n",
    "\t\n",
    "In :     n=8\n",
    "Out :  Inverse de 1 modulo 8 est : 1\n",
    "          Inverse de 2 modulo 8 n’existe pas\n",
    "          Inverse de 3 modulo 8 est : 3\n",
    "          Inverse de 4 modulo 8 n’existe pas\n",
    "          Inverse de 5 modulo 8 est : 5\n",
    "          Inverse de 6 modulo 8 n’existe pas\n",
    "          Inverse de 7 modulo 8 est : 7\n",
    "```"
   ]
  },
  {
   "cell_type": "code",
   "execution_count": null,
   "metadata": {},
   "outputs": [],
   "source": [
    "# votre programme"
   ]
  },
  {
   "cell_type": "markdown",
   "metadata": {},
   "source": [
    "---\n",
    "### Exercice 18\n",
    "\n",
    "a) Écrire une fonction Python `primalite(n)` qui vérifie si le nombre `n` est premier, dans ce cas las fonction retourne `True` sinon elle retourne `False`. "
   ]
  },
  {
   "cell_type": "code",
   "execution_count": null,
   "metadata": {},
   "outputs": [],
   "source": [
    "from math import sqrt\n",
    "\n",
    "def primalite(n):\n",
    "    if ...\n",
    "        return ...\n",
    "    else:\n",
    "        for ...\n",
    "            if ...\n",
    "                return ...\n",
    "        return ...\n"
   ]
  },
  {
   "cell_type": "markdown",
   "metadata": {},
   "source": [
    "Tester la primalité des nombres `n` ci-dessous avec `primalite(n)`.\n",
    "- $n={{2}^{19}}-1$\n",
    "- $n={{2}^{23}}-1$\n",
    "- $n={{2}^{31}}-1$\n",
    "- $n={{2}^{37}}-1$\n",
    "\n",
    "*Exemple: Pour vérifier que votre programme fonctionne, vous devriez obtenir les résultats suivants:*\n",
    "\n",
    "```python\n",
    "In  : primalite(2**19 -1)\n",
    "Out : True\n",
    "\n",
    "In  : primalite(2**23 -1)\n",
    "Out : False\n",
    "```"
   ]
  },
  {
   "cell_type": "code",
   "execution_count": null,
   "metadata": {},
   "outputs": [],
   "source": [
    "# pour tester\n"
   ]
  },
  {
   "cell_type": "markdown",
   "metadata": {},
   "source": [
    "b) En utilisant la fonction `primalite(n)`, écrire une fonction en Python `premier_sup(n)`qui retourne le premier nombre premier supérieur ou égal au nombre `n` donné.\n",
    "\n",
    "*Exemple: Pour vérifier que votre programme fonctionne, vous devriez obtenir les résultats suivants:*\n",
    "\n",
    "```python\n",
    "In    : premier_sup(50)\n",
    "Out : 53\n",
    "\n",
    "In    : premier_sup(10**6)\n",
    "Out : 1000003\n",
    "\n",
    "```"
   ]
  },
  {
   "cell_type": "code",
   "execution_count": null,
   "metadata": {},
   "outputs": [],
   "source": [
    "def premier_sup(n):\n",
    "        # à compléter\n",
    "    \n",
    "    return ...\n",
    "\n"
   ]
  },
  {
   "cell_type": "markdown",
   "metadata": {},
   "source": [
    "Tester votre programme avec les nombres suivants :\n",
    "- $n={{10}^{2}}$\n",
    "- $n={{10}^{6}}$\n",
    "- $n={{10}^{12}}$\n",
    "- $n={{10}^{15}}$\n"
   ]
  },
  {
   "cell_type": "code",
   "execution_count": null,
   "metadata": {},
   "outputs": [],
   "source": [
    "# pour tester\n"
   ]
  },
  {
   "cell_type": "markdown",
   "metadata": {},
   "source": [
    "---\n",
    "### Exercice 20\n",
    "\n",
    "En utilisant la fonction `primalite(n)`, et la proposition (1.13), écrire un programme en Python qui affiche les m premiers nombres premiers de Mersenne avec comme informations supplémentaires le nombre de chiffres en base 10 ainsi que le temps nécessaire à votre ordinateur pour effectuer le test de primalité (voir l’exercice 4 pour se souvenir de comment mesure le temps en Python).\n",
    "\n",
    "*Exemple: Pour vérifier que votre programme fonctionne, vous devriez obtenir les résultats suivants:*\n",
    "\n",
    "```python\n",
    "1      M_ 2 = 2** 2 -1  est premier et possede 1 chiffres.    \n",
    "       Temps du test : 9.130653680848098e-05 secondes\n",
    "2      M_ 3 = 2** 3 -1  est premier et possede 1 chiffres.    \n",
    "        Temps du test : 7.964433117250676e-06 secondes\n",
    "3      M_ 5 = 2** 5 -1  est premier et possede 2 chiffres.    \n",
    "        Temps du test : 5.688880798036073e-06 secondes\n",
    "4      M_ 7 = 2** 7 -1  est premier et possede 3 chiffres.    \n",
    "        Temps du test : 5.68888079803629e-06 secondes\n",
    "5      M_ 13 = 2** 13 -1  est premier et possede 4 chiffres.    \n",
    "        Temps du test : 7.111100997545146e-06 secondes\n",
    "…….\n",
    "\n",
    "\n",
    "```\n",
    "\n",
    "Tester votre programme avec les nombres suivants :\n",
    "- $m=5$\n",
    "- $m=10$\n",
    "- $m=15$\n"
   ]
  },
  {
   "cell_type": "code",
   "execution_count": 4,
   "metadata": {},
   "outputs": [],
   "source": [
    "# votre programme"
   ]
  },
  {
   "cell_type": "markdown",
   "metadata": {},
   "source": [
    "---\n",
    "### Exercice 23\n",
    "\n",
    "Ecrire dans un éditeur la fonction Python : decomposition_premiers(n) qui retourne la décomposition en nombre premiers de n sous la forme d’une liste. \n",
    "\n",
    "*Exemple: Pour vérifier que votre programme fonctionne, vous devriez obtenir les résultats suivants:*\n",
    "\n",
    "```python\n",
    "In  : decomposition_premier(126)\n",
    "Out : [2, 3, 3, 7]\n",
    "\n",
    "```"
   ]
  },
  {
   "cell_type": "code",
   "execution_count": null,
   "metadata": {},
   "outputs": [],
   "source": [
    "def decomposition_premier(n):\n",
    "    D = []\n",
    "    p = 2\n",
    "    while ... :\n",
    "        if ... :            \n",
    "            ...\n",
    "            ...\n",
    "        else:\n",
    "            ...\n",
    "            \n",
    "    return ...\n"
   ]
  },
  {
   "cell_type": "markdown",
   "metadata": {},
   "source": [
    "Tester votre programme avec les nombres suivants : \n",
    "- $n=1500$\n",
    "- $n=123456789$\n",
    "- $n=125484723$ \n"
   ]
  },
  {
   "cell_type": "code",
   "execution_count": 4,
   "metadata": {},
   "outputs": [],
   "source": [
    "# votre programme"
   ]
  },
  {
   "cell_type": "code",
   "execution_count": null,
   "metadata": {},
   "outputs": [],
   "source": []
  },
  {
   "cell_type": "markdown",
   "metadata": {},
   "source": [
    "---\n",
    "\n",
    "#### Remarque générale\n",
    "\n",
    "Une majorité des exercices de ce notebook sont issues du cours d'applications des mathématiques des S. Piccione. Il est sous license Creative Commons [BY-NC-SA](https://creativecommons.org/licenses/?lang=fr)\n",
    "![Licence Creative Commons](https://i.creativecommons.org/l/by-nc-sa/4.0/88x31.png)"
   ]
  }
 ],
 "metadata": {
  "celltoolbar": "Éditer les Méta-Données",
  "kernelspec": {
   "display_name": "Python 3 (ipykernel)",
   "language": "python",
   "name": "python3"
  },
  "language_info": {
   "codemirror_mode": {
    "name": "ipython",
    "version": 3
   },
   "file_extension": ".py",
   "mimetype": "text/x-python",
   "name": "python",
   "nbconvert_exporter": "python",
   "pygments_lexer": "ipython3",
   "version": "3.12.3"
  }
 },
 "nbformat": 4,
 "nbformat_minor": 2
}
