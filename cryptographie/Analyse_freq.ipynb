{
 "cells": [
  {
   "cell_type": "markdown",
   "id": "b175e3e7",
   "metadata": {},
   "source": [
    "# Calculer les fréquences d'apparition d'une lettre dans une chaîne de caractères"
   ]
  },
  {
   "cell_type": "code",
   "execution_count": 1,
   "id": "42942619",
   "metadata": {},
   "outputs": [],
   "source": [
    "POS_A = ord('A')#la position du A\n",
    "POS_a = ord('a')#la position du a\n",
    "POS_E = ord('E')#la position du E\n",
    "POS_O = ord('O')#la position du O\n",
    "POS_U = ord('U')#la position du U\n",
    "POS_I = ord('I')#la position du U\n",
    "\n",
    "\n",
    "def pos_char(c):\n",
    "    '''\n",
    "    Donne la position du caractère dans l'alphabet\n",
    "    return -1 si le charactère n'est pas une lettre\n",
    "    '''\n",
    "    if 'a' <= c <= 'z':\n",
    "        p = ord(c) - POS_a\n",
    "    elif 'A' <= c <= 'Z':\n",
    "        p = ord(c) - POS_A\n",
    "    elif c in 'éèêÉÊÊ':\n",
    "        p = POS_E - POS_A\n",
    "    elif c in 'ôÔ':\n",
    "        p = POS_O - POS_A\n",
    "    elif c in 'ûÛùÙ':\n",
    "        p = POS_U - POS_A\n",
    "    elif c in 'îÎ':\n",
    "        p = POS_I - POS_A\n",
    "    else:\n",
    "        p = -1\n",
    "\n",
    "    return p\n",
    "\n",
    "\n",
    "\n",
    "def calc_freq(texte):\n",
    "    Ns_char = [0] * 26 # nombre d'apparitions de chaque lettre\n",
    "    N = 0 # compte le nombre total de lettres\n",
    "    for car in texte:\n",
    "        p = pos_char(car) # donne la position du caractère\n",
    "        \n",
    "        # fait des statistiques seuelement sur des caractères alphabétiques\n",
    "        if p != -1 :\n",
    "            N = N + 1 # compte le nombre de caractères total du texte\n",
    "            Ns_char[p] += 1 # compte le nombre de caractères à la postion p\n",
    "        \n",
    "    # Normalisation : calcule les fréquences\n",
    "    freq = [n_char / N for n_char in Ns_char]\n",
    "    \n",
    "    return freq"
   ]
  },
  {
   "cell_type": "markdown",
   "id": "6f1f3b19",
   "metadata": {},
   "source": [
    "### Test de la fonction"
   ]
  },
  {
   "cell_type": "code",
   "execution_count": 2,
   "id": "e06169b5",
   "metadata": {},
   "outputs": [],
   "source": [
    "# permet de lire le contenu du fichier texte\n",
    "livre_fichier = open(\"Notre-Dame_de_Paris.txt\", \"r\")"
   ]
  },
  {
   "cell_type": "code",
   "execution_count": 3,
   "id": "28fdcb41",
   "metadata": {},
   "outputs": [],
   "source": [
    "# permet de mettre le contenu entier du fichier texte dans une unique chaîne de caractères\n",
    "texte_livre = livre_fichier.read()\n",
    "texte_livre = texte_livre.replace('\\n', ' ')#remplace les sauts à la ligne \"\\n\" par des espaces \" \"."
   ]
  },
  {
   "cell_type": "code",
   "execution_count": 4,
   "id": "433a8089",
   "metadata": {},
   "outputs": [],
   "source": [
    "livre_fichier.close()"
   ]
  },
  {
   "cell_type": "code",
   "execution_count": 5,
   "id": "45c9c0d3",
   "metadata": {},
   "outputs": [],
   "source": [
    "freq_livre = calc_freq(texte_livre)"
   ]
  },
  {
   "cell_type": "code",
   "execution_count": 7,
   "id": "681c84a2",
   "metadata": {},
   "outputs": [],
   "source": [
    "# transformer la liste en dictionnaire\n",
    "dic_freq = {chr(k+POS_A) : freq_livre[k] for k in range(26)}"
   ]
  },
  {
   "cell_type": "code",
   "execution_count": 36,
   "id": "a9aecb5f",
   "metadata": {
    "scrolled": true
   },
   "outputs": [
    {
     "data": {
      "text/plain": [
       "{'A': 0.07902276012228436,\n",
       " 'B': 0.01027292184964346,\n",
       " 'C': 0.0317897458077188,\n",
       " 'D': 0.0380814021546397,\n",
       " 'E': 0.17626372218135397,\n",
       " 'F': 0.011125610097208924,\n",
       " 'G': 0.01128456498728977,\n",
       " 'H': 0.010789217190293647,\n",
       " 'I': 0.07461391828732883,\n",
       " 'J': 0.004877081046046398,\n",
       " 'K': 3.080521125597775e-05,\n",
       " 'L': 0.060917921362921124,\n",
       " 'M': 0.027305739257298678,\n",
       " 'N': 0.06426706393067103,\n",
       " 'O': 0.05290240539411571,\n",
       " 'P': 0.02695702426588101,\n",
       " 'Q': 0.01212862777570356,\n",
       " 'R': 0.06601926434691104,\n",
       " 'S': 0.07616033989237891,\n",
       " 'T': 0.07307488993298018,\n",
       " 'U': 0.06670560445369422,\n",
       " 'V': 0.016692727875389224,\n",
       " 'W': 3.6966253507173303e-06,\n",
       " 'X': 0.00401576733932926,\n",
       " 'Y': 0.003043554872090602,\n",
       " 'Z': 0.0016536237402208858}"
      ]
     },
     "execution_count": 36,
     "metadata": {},
     "output_type": "execute_result"
    }
   ],
   "source": [
    "dic_freq"
   ]
  },
  {
   "cell_type": "code",
   "execution_count": 68,
   "id": "67831663",
   "metadata": {},
   "outputs": [
    {
     "data": {
      "text/plain": [
       "[('E', 0.17626372218135397),\n",
       " ('A', 0.07902276012228436),\n",
       " ('S', 0.07616033989237891),\n",
       " ('I', 0.07461391828732883),\n",
       " ('T', 0.07307488993298018),\n",
       " ('U', 0.06670560445369422),\n",
       " ('R', 0.06601926434691104),\n",
       " ('N', 0.06426706393067103),\n",
       " ('L', 0.060917921362921124),\n",
       " ('O', 0.05290240539411571),\n",
       " ('D', 0.0380814021546397),\n",
       " ('C', 0.0317897458077188),\n",
       " ('M', 0.027305739257298678),\n",
       " ('P', 0.02695702426588101),\n",
       " ('V', 0.016692727875389224),\n",
       " ('Q', 0.01212862777570356),\n",
       " ('G', 0.01128456498728977),\n",
       " ('F', 0.011125610097208924),\n",
       " ('H', 0.010789217190293647),\n",
       " ('B', 0.01027292184964346),\n",
       " ('J', 0.004877081046046398),\n",
       " ('X', 0.00401576733932926),\n",
       " ('Y', 0.003043554872090602),\n",
       " ('Z', 0.0016536237402208858),\n",
       " ('K', 3.080521125597775e-05),\n",
       " ('W', 3.6966253507173303e-06)]"
      ]
     },
     "execution_count": 68,
     "metadata": {},
     "output_type": "execute_result"
    }
   ],
   "source": [
    "freq_triees = sorted([(key, value) for key, value in dic_freq.items()],\n",
    "                      key=lambda x: x[1],\n",
    "                      reverse = True)\n",
    "freq_triees "
   ]
  },
  {
   "cell_type": "markdown",
   "id": "13ee1ccd",
   "metadata": {},
   "source": [
    "### Histogramme des lettres"
   ]
  },
  {
   "cell_type": "code",
   "execution_count": 9,
   "id": "c982ce2a",
   "metadata": {},
   "outputs": [],
   "source": [
    "from matplotlib.pyplot import bar,show,xticks"
   ]
  },
  {
   "cell_type": "code",
   "execution_count": 10,
   "id": "9cf1ffbe",
   "metadata": {},
   "outputs": [],
   "source": [
    "def create_histo(dico):\n",
    "    xticks(rotation = 'vertical')\n",
    "    bar(list(dico.keys()), dico.values(), color='g')\n",
    "    show()"
   ]
  },
  {
   "cell_type": "code",
   "execution_count": 11,
   "id": "6d597bd8",
   "metadata": {},
   "outputs": [
    {
     "data": {
      "image/png": "[encoded data removed]",
      "text/plain": [
       "<Figure size 640x480 with 1 Axes>"
      ]
     },
     "metadata": {},
     "output_type": "display_data"
    }
   ],
   "source": [
    "create_histo(dic_freq)"
   ]
  },
  {
   "cell_type": "markdown",
   "id": "017c7afa",
   "metadata": {},
   "source": [
    "## Cryptanalyse Cesar"
   ]
  },
  {
   "cell_type": "code",
   "execution_count": 27,
   "id": "690d4446",
   "metadata": {},
   "outputs": [],
   "source": [
    "def dist_freq(freq1, freq2):\n",
    "    ''' calcule la distance euclidienne ||f1-f2||\n",
    "    '''\n",
    "    dist = 0\n",
    "    for k in range(len(freq1)):\n",
    "        dist += (freq1[k] - freq2[k])**2\n",
    "    \n",
    "    return dist**0.5"
   ]
  },
  {
   "cell_type": "code",
   "execution_count": 22,
   "id": "30f1ab26",
   "metadata": {},
   "outputs": [],
   "source": [
    "def cesar_dechiffre(texte_chiffre, k):\n",
    "    texte_clair= \"\"\n",
    "    for lettre in texte_chiffre:\n",
    "        nb_chiffre = pos_char(lettre)\n",
    "        nb_clair = (nb_chiffre - k) % 26\n",
    "        lettre_clair = chr(nb_clair + POS_A)\n",
    "        texte_clair = texte_clair + lettre_clair\n",
    "    return texte_clair"
   ]
  },
  {
   "cell_type": "code",
   "execution_count": 31,
   "id": "a54222f3",
   "metadata": {},
   "outputs": [],
   "source": [
    "def casser_cesar(texte_chiffre):\n",
    "    \n",
    "    d_min = 2 # car ||a-b||=(a-b)·(a-b)=||a||+||b||-2 (a·b)=2-2 (a·b)\n",
    "              # donc toujours plus petit que 2\n",
    "    cle = 0\n",
    "    texte_dechiffre_final = texte_chiffre\n",
    "    for k in range(1,26):\n",
    "        texte_dechiffre = cesar_dechiffre(texte_chiffre, k)\n",
    "        freq_dechiffre =  calc_freq(texte_dechiffre)\n",
    "        d = dist_freq(freq_dechiffre, freq_livre)\n",
    "        \n",
    "        if d < d_min:\n",
    "            d_min = d\n",
    "            cle = k\n",
    "            texte_dechiffre_final = texte_dechiffre\n",
    "            \n",
    "    return cle, texte_dechiffre_final"
   ]
  },
  {
   "cell_type": "code",
   "execution_count": 32,
   "id": "bd6f21e0",
   "metadata": {},
   "outputs": [
    {
     "name": "stdout",
     "output_type": "stream",
     "text": [
      "La clé pour déchiffrer \" INKANNWLJPN \" est  9  et le texte dechiffré est :  ZEBREENCAGE\n"
     ]
    }
   ],
   "source": [
    "texte_chiffre_01='INKANNWLJPN'\n",
    "cle, texte_dechiffre = casser_cesar(texte_chiffre_01)\n",
    "print('La clé pour déchiffrer \"', texte_chiffre_01, '\" est ', cle, \n",
    "      ' et le texte dechiffré est : ', texte_dechiffre)"
   ]
  },
  {
   "cell_type": "code",
   "execution_count": 34,
   "id": "fbd32638",
   "metadata": {},
   "outputs": [
    {
     "name": "stdout",
     "output_type": "stream",
     "text": [
      "La clé pour déchiffrer \" LKDKSVVO \" est  10  et le texte dechiffré est :  BATAILLE\n"
     ]
    }
   ],
   "source": [
    "texte_chiffre_02='LKDKSVVO'\n",
    "cle, texte_dechiffre = casser_cesar(texte_chiffre_02)\n",
    "print('La clé pour déchiffrer \"', texte_chiffre_02, '\" est ', cle, \n",
    "      ' et le texte dechiffré est : ', texte_dechiffre)"
   ]
  },
  {
   "cell_type": "code",
   "execution_count": 35,
   "id": "ee411e60",
   "metadata": {},
   "outputs": [
    {
     "name": "stdout",
     "output_type": "stream",
     "text": [
      "La clé pour déchiffrer \" REYPKENA \" est  22  et le texte dechiffré est :  VICTOIRE\n"
     ]
    }
   ],
   "source": [
    "texte_chiffre_03='REYPKENA'\n",
    "cle, texte_dechiffre = casser_cesar(texte_chiffre_03)\n",
    "print('La clé pour déchiffrer \"', texte_chiffre_03, '\" est ', cle, \n",
    "      ' et le texte dechiffré est : ', texte_dechiffre)"
   ]
  },
  {
   "cell_type": "code",
   "execution_count": null,
   "id": "e520793f",
   "metadata": {},
   "outputs": [],
   "source": []
  },
  {
   "cell_type": "markdown",
   "id": "0d112f3f",
   "metadata": {},
   "source": [
    "## Cryptanalyse Affine"
   ]
  },
  {
   "cell_type": "code",
   "execution_count": 38,
   "id": "04b2009c",
   "metadata": {},
   "outputs": [],
   "source": [
    "def find_inverse_Z26(x):\n",
    "    '''\n",
    "      Si l'inverse n'existe pas, 0 est retourné\n",
    "    '''\n",
    "    for k in range(1,26):\n",
    "        r = (x * k) % 26\n",
    "        if r == 1:\n",
    "            return k\n",
    "    return 0"
   ]
  },
  {
   "cell_type": "code",
   "execution_count": 43,
   "id": "0118daea",
   "metadata": {},
   "outputs": [],
   "source": [
    "def affine_dechiffre(texte_chiffre,a,b):\n",
    "    \n",
    "    inverse = find_inverse_Z26(a)     # c est l'inverse de a mod 26\n",
    "            \n",
    "    texte_clair= \"\"\n",
    "    for lettre in texte_chiffre:               # Boucle\n",
    "        nb_chiffre = pos_char(lettre)              # Bijection b\n",
    "        nb_clair = inverse*(nb_chiffre-b)%26      # Fonction de dechiffrement\n",
    "        lettre_clair = chr(nb_clair + POS_A)          # Bijection b^-1\n",
    "        texte_clair = texte_clair + lettre_clair   \n",
    "    return texte_clair"
   ]
  },
  {
   "cell_type": "code",
   "execution_count": 44,
   "id": "ec6b34e6",
   "metadata": {
    "scrolled": true
   },
   "outputs": [
    {
     "data": {
      "text/plain": [
       "'BATAILLE'"
      ]
     },
     "execution_count": 44,
     "metadata": {},
     "output_type": "execute_result"
    }
   ],
   "source": [
    "affine_dechiffre('LCRCWXXM',9,2)"
   ]
  },
  {
   "cell_type": "code",
   "execution_count": 47,
   "id": "9d7cd8bb",
   "metadata": {},
   "outputs": [
    {
     "data": {
      "text/plain": [
       "[1, 9, 21, 15, 3, 19, 7, 23, 11, 5, 17, 25]"
      ]
     },
     "execution_count": 47,
     "metadata": {},
     "output_type": "execute_result"
    }
   ],
   "source": [
    "# tous les éléments qui possède une inverse dans Z26\n",
    "INV_Z26 = [find_inverse_Z26(k) for k in range(26) if find_inverse_Z26(k)!=0]\n",
    "INV_Z26"
   ]
  },
  {
   "cell_type": "code",
   "execution_count": 60,
   "id": "d22ce0c3",
   "metadata": {},
   "outputs": [],
   "source": [
    "def casser_affine(texte_chiffre):\n",
    "    \n",
    "    d_min = 2 # car ||a-b||=(a-b)·(a-b)=||a||+||b||-2 (a·b)=2-2 (a·b)\n",
    "              # donc toujours plus petit que 2\n",
    "    cle = (1,0)\n",
    "    texte_dechiffre_final = texte_chiffre\n",
    "    for a in INV_Z26:\n",
    "        for b in range(1,26):\n",
    "            texte_dechiffre = affine_dechiffre(texte_chiffre, a,b)\n",
    "            freq_dechiffre =  calc_freq(texte_dechiffre)\n",
    "            d = dist_freq(freq_dechiffre, freq_livre)\n",
    "            \n",
    "            if d < d_min:\n",
    "                d_min = d\n",
    "                cle = (a,b)\n",
    "                texte_dechiffre_final = texte_dechiffre\n",
    "                # print((a,b), texte_dechiffre, d)\n",
    "            \n",
    "    return cle, texte_dechiffre_final"
   ]
  },
  {
   "cell_type": "code",
   "execution_count": 61,
   "id": "a8a10ff4",
   "metadata": {},
   "outputs": [
    {
     "data": {
      "text/plain": [
       "((11, 10), 'TEDEUNNM')"
      ]
     },
     "execution_count": 61,
     "metadata": {},
     "output_type": "execute_result"
    }
   ],
   "source": [
    "casser_affine('LCRCWXXM')"
   ]
  },
  {
   "cell_type": "code",
   "execution_count": 62,
   "id": "461e5130",
   "metadata": {
    "scrolled": true
   },
   "outputs": [
    {
     "data": {
      "text/plain": [
       "((11, 3), 'BRAVOCENESTPASFACILE')"
      ]
     },
     "execution_count": 62,
     "metadata": {},
     "output_type": "execute_result"
    }
   ],
   "source": [
    "casser_affine('OIDABZVQVTEMDTGDZNUV')"
   ]
  },
  {
   "cell_type": "code",
   "execution_count": 69,
   "id": "a030790f",
   "metadata": {},
   "outputs": [
    {
     "data": {
      "text/plain": [
       "((25, 13), 'LECOMMANDEMENTMILITAIREESTPRET')"
      ]
     },
     "execution_count": 69,
     "metadata": {},
     "output_type": "execute_result"
    }
   ],
   "source": [
    "casser_affine('CJLZBBNAKJBJAUBFCFUNFWJJVUYWJU')"
   ]
  },
  {
   "cell_type": "code",
   "execution_count": null,
   "id": "7e20405a",
   "metadata": {},
   "outputs": [],
   "source": []
  }
 ],
 "metadata": {
  "kernelspec": {
   "display_name": "Python 3 (ipykernel)",
   "language": "python",
   "name": "python3"
  },
  "language_info": {
   "codemirror_mode": {
    "name": "ipython",
    "version": 3
   },
   "file_extension": ".py",
   "mimetype": "text/x-python",
   "name": "python",
   "nbconvert_exporter": "python",
   "pygments_lexer": "ipython3",
   "version": "3.12.3"
  }
 },
 "nbformat": 4,
 "nbformat_minor": 5
}
